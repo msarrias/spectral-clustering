{
 "cells": [
  {
   "cell_type": "code",
   "execution_count": 12,
   "metadata": {
    "scrolled": true
   },
   "outputs": [],
   "source": [
    "import numpy as np\n",
    "import matplotlib\n",
    "from matplotlib import pyplot as plt\n",
    "from math import sqrt, exp"
   ]
  },
  {
   "cell_type": "code",
   "execution_count": 2,
   "metadata": {},
   "outputs": [],
   "source": [
    "def read_and_convert_data(data_path, labels_path):\n",
    "    \"\"\"\n",
    "    read_and_convert_data_points is a function that takes\n",
    "    a text file as an argument and converts it into an \n",
    "    array containing all the datapoints.\n",
    "    ======================================================\n",
    "    :param filename: text file name in directory.\n",
    "    :return: Npts x 2 array, labels vector of length Npts. \n",
    "    ======================================================\n",
    "    \"\"\"\n",
    "    splits = []\n",
    "    with open(data_path, 'r') as d, open(labels_path, 'r') as l:\n",
    "                data_points = d.readlines()\n",
    "                data_labels = l.readlines()\n",
    "    \n",
    "    for data_point in data_points:\n",
    "        splits.append(data_point.split())\n",
    "    \n",
    "    return (np.array(splits, dtype=np.float),\n",
    "            np.array(data_labels, dtype=np.int))"
   ]
  },
  {
   "cell_type": "code",
   "execution_count": 3,
   "metadata": {},
   "outputs": [],
   "source": [
    "def scatter_plot(data,labels):\n",
    "    \"\"\"\n",
    "    scatter_plot is a function that plots the data.\n",
    "     ======================================================\n",
    "    :param data: Npts x 2, data set array.\n",
    "    :labels: Npts labels vector.\n",
    "    :return:\n",
    "     ======================================================\n",
    "    \"\"\"\n",
    "    x, y = data_points.T\n",
    "    colors = ['red','orange','blue']\n",
    "    plt.scatter(x,y,c=labels, \n",
    "                cmap=matplotlib.colors.ListedColormap(colors))\n",
    "    plt.show()"
   ]
  },
  {
   "cell_type": "code",
   "execution_count": 5,
   "metadata": {},
   "outputs": [],
   "source": [
    "def eucledian_dist(x_i, x_j):\n",
    "    coord = x_i.shape[0]\n",
    "    d=[]\n",
    "    if coord == x_j.shape[0]:\n",
    "        for i in range(coord):\n",
    "            d.append((x_i[i] - x_j[i])**2)\n",
    "    return sqrt(sum(d))"
   ]
  },
  {
   "cell_type": "code",
   "execution_count": 6,
   "metadata": {},
   "outputs": [],
   "source": [
    "def distance_matrix(data, distance_measure):\n",
    "    Npts= data.shape[0]\n",
    "    distance_matrix=np.zeros((Npts,Npts))\n",
    "    for xi in range(Npts):\n",
    "        for xj in range(Npts):\n",
    "            distance_matrix[xi,xj] = distance_measure(data[xi],data[xj])\n",
    "    return(distance_matrix)"
   ]
  },
  {
   "cell_type": "code",
   "execution_count": null,
   "metadata": {},
   "outputs": [],
   "source": [
    "def adjacency_matrix(data, sigma):\n",
    "    dist_matrix = distance_matrix(test_matrix, eucledian_dist)\n",
    "    adjacency_matrix= np.exp(-(dist_matrix)**2 /sigma)\n",
    "    adjacency_matrix[adjacency_matrix==1] = 0\n",
    "    return(adjacency_matrix)"
   ]
  },
  {
   "cell_type": "code",
   "execution_count": null,
   "metadata": {},
   "outputs": [],
   "source": [
    "def diagonal_matrix(adjacency_matrix):\n",
    "    return(np.diag(sum(adjacency_matrix)))"
   ]
  },
  {
   "cell_type": "code",
   "execution_count": 27,
   "metadata": {},
   "outputs": [],
   "source": [
    "adjacency_matrix= np.exp(-(distance_matrix(test_matrix,eucledian_dist))**2 /0.5)\n",
    "adjacency_matrix[adjacency_matrix==1] = 0"
   ]
  },
  {
   "cell_type": "code",
   "execution_count": 7,
   "metadata": {},
   "outputs": [],
   "source": [
    "# Toy dataset obtained from:\n",
    "# https://www.gagolewski.com/resources/data/clustering/\n",
    "data_path = 'data/spiral.data'\n",
    "labels_path = 'data/spiral.labels'"
   ]
  },
  {
   "cell_type": "code",
   "execution_count": 10,
   "metadata": {},
   "outputs": [],
   "source": [
    "data_points, data_labels = read_and_convert_data(data_path, labels_path)\n",
    "Npts, coord = data_points.shape"
   ]
  },
  {
   "cell_type": "code",
   "execution_count": 9,
   "metadata": {},
   "outputs": [
    {
     "data": {
      "image/png": "[encoded data removed]",
      "text/plain": [
       "<Figure size 432x288 with 1 Axes>"
      ]
     },
     "metadata": {
      "needs_background": "light"
     },
     "output_type": "display_data"
    }
   ],
   "source": [
    "scatter_plot(data_points, data_labels)"
   ]
  },
  {
   "cell_type": "code",
   "execution_count": 86,
   "metadata": {},
   "outputs": [],
   "source": [
    "x_i = data_points[0]\n",
    "x_j = data_points[1]\n",
    "coord = data_points[0].shape[0]\n",
    "d=[]\n",
    "for i in range(coord):\n",
    "    d.append((x_i[i] - x_j[i])**2)"
   ]
  },
  {
   "cell_type": "code",
   "execution_count": 93,
   "metadata": {},
   "outputs": [
    {
     "data": {
      "text/plain": [
       "array([[ 0.        ,  1.03077641,  1.98494332, ..., 17.47512518,\n",
       "        17.56680107, 17.60433185],\n",
       "       [ 1.03077641,  0.        ,  0.95524866, ..., 16.98683314,\n",
       "        17.09064071, 17.13300908],\n",
       "       [ 1.98494332,  0.95524866,  0.        , ..., 16.63730747,\n",
       "        16.75298481, 16.8000744 ],\n",
       "       ...,\n",
       "       [17.47512518, 16.98683314, 16.63730747, ...,  0.        ,\n",
       "         0.25      ,  0.35      ],\n",
       "       [17.56680107, 17.09064071, 16.75298481, ...,  0.25      ,\n",
       "         0.        ,  0.1       ],\n",
       "       [17.60433185, 17.13300908, 16.8000744 , ...,  0.35      ,\n",
       "         0.1       ,  0.        ]])"
      ]
     },
     "execution_count": 93,
     "metadata": {},
     "output_type": "execute_result"
    }
   ],
   "source": [
    "distance_matrix(data_points, eucledian_dist)"
   ]
  },
  {
   "cell_type": "code",
   "execution_count": 94,
   "metadata": {},
   "outputs": [
    {
     "data": {
      "text/plain": [
       "array([[ 0.        , 15.19470696, 19.21924743, 11.68471865, 16.80645508,\n",
       "         1.75910106],\n",
       "       [15.19470696,  0.        ,  8.05654889, 18.07427993,  3.15322822,\n",
       "        15.70518756],\n",
       "       [19.21924743,  8.05654889,  0.        , 16.74225833,  4.95678038,\n",
       "        18.99767445],\n",
       "       [11.68471865, 18.07427993, 16.74225833,  0.        , 17.56851596,\n",
       "        10.05350743],\n",
       "       [16.80645508,  3.15322822,  4.95678038, 17.56851596,  0.        ,\n",
       "        17.01961422],\n",
       "       [ 1.75910106, 15.70518756, 18.99767445, 10.05350743, 17.01961422,\n",
       "         0.        ]])"
      ]
     },
     "execution_count": 94,
     "metadata": {},
     "output_type": "execute_result"
    }
   ],
   "source": [
    "distance_matrix(test_matrix,eucledian_dist)"
   ]
  },
  {
   "cell_type": "code",
   "execution_count": 41,
   "metadata": {},
   "outputs": [
    {
     "data": {
      "text/plain": [
       "array([[ 0.        ,  1.03077641,  1.98494332, ..., 17.47512518,\n",
       "        17.56680107, 17.60433185],\n",
       "       [ 1.03077641,  0.        ,  0.95524866, ..., 16.98683314,\n",
       "        17.09064071, 17.13300908],\n",
       "       [ 1.98494332,  0.95524866,  0.        , ..., 16.63730747,\n",
       "        16.75298481, 16.8000744 ],\n",
       "       ...,\n",
       "       [17.47512518, 16.98683314, 16.63730747, ...,  0.        ,\n",
       "         0.25      ,  0.35      ],\n",
       "       [17.56680107, 17.09064071, 16.75298481, ...,  0.25      ,\n",
       "         0.        ,  0.1       ],\n",
       "       [17.60433185, 17.13300908, 16.8000744 , ...,  0.35      ,\n",
       "         0.1       ,  0.        ]])"
      ]
     },
     "execution_count": 41,
     "metadata": {},
     "output_type": "execute_result"
    }
   ],
   "source": [
    "matrix"
   ]
  },
  {
   "cell_type": "code",
   "execution_count": 23,
   "metadata": {},
   "outputs": [
    {
     "data": {
      "text/plain": [
       "array([[  -0.        , -461.75823909, -738.75894341, -273.06530003,\n",
       "        -564.91386462,   -6.18887311],\n",
       "       [-461.75823909,   -0.        , -129.81595997, -653.35919016,\n",
       "         -19.88569644, -493.30583262],\n",
       "       [-738.75894341, -129.81595997,   -0.        , -560.60642786,\n",
       "         -49.13934354, -721.8232687 ],\n",
       "       [-273.06530003, -653.35919016, -560.60642786,   -0.        ,\n",
       "        -617.30550593, -202.14602344],\n",
       "       [-564.91386462,  -19.88569644,  -49.13934354, -617.30550593,\n",
       "          -0.        , -579.3345365 ],\n",
       "       [  -6.18887311, -493.30583262, -721.8232687 , -202.14602344,\n",
       "        -579.3345365 ,   -0.        ]])"
      ]
     },
     "execution_count": 23,
     "metadata": {},
     "output_type": "execute_result"
    }
   ],
   "source": [
    "- distance_matrix(test_matrix, eucledian_dist)**2/0.5"
   ]
  },
  {
   "cell_type": "code",
   "execution_count": 24,
   "metadata": {},
   "outputs": [
    {
     "data": {
      "text/plain": [
       "array([[1.00000000e+000, 2.89031243e-201, 1.44761234e-321,\n",
       "        2.56594295e-119, 4.58169153e-246, 2.05213799e-003],\n",
       "       [2.89031243e-201, 1.00000000e+000, 4.18451302e-057,\n",
       "        1.77708833e-284, 2.31074364e-009, 5.75438617e-215],\n",
       "       [1.44761234e-321, 4.18451302e-057, 1.00000000e+000,\n",
       "        3.40190249e-244, 4.56093894e-022, 3.28199182e-314],\n",
       "       [2.56594295e-119, 1.77708833e-284, 3.40190249e-244,\n",
       "        1.00000000e+000, 8.08397810e-269, 1.61844327e-088],\n",
       "       [4.58169153e-246, 2.31074364e-009, 4.56093894e-022,\n",
       "        8.08397810e-269, 1.00000000e+000, 2.50154099e-252],\n",
       "       [2.05213799e-003, 5.75438617e-215, 3.28199182e-314,\n",
       "        1.61844327e-088, 2.50154099e-252, 1.00000000e+000]])"
      ]
     },
     "execution_count": 24,
     "metadata": {},
     "output_type": "execute_result"
    }
   ],
   "source": []
  },
  {
   "cell_type": "code",
   "execution_count": 15,
   "metadata": {},
   "outputs": [],
   "source": [
    "test_matrix = np.zeros((6,2))\n",
    "test_matrix[0] = (8.5747873,4.641927)\n",
    "test_matrix[1] = (2.2325458, -9.165864)\n",
    "test_matrix[2] = (-5.7608632, -8.159190)\n",
    "test_matrix[3] = (-2.5327607, 8.268913)\n",
    "test_matrix[4] = (-0.9201197, -9.225433)\n",
    "test_matrix[5] = (7.1960156,5.734367)"
   ]
  },
  {
   "cell_type": "code",
   "execution_count": null,
   "metadata": {},
   "outputs": [],
   "source": []
  }
 ],
 "metadata": {
  "kernelspec": {
   "display_name": "Python 3",
   "language": "python",
   "name": "python3"
  },
  "language_info": {
   "codemirror_mode": {
    "name": "ipython",
    "version": 3
   },
   "file_extension": ".py",
   "mimetype": "text/x-python",
   "name": "python",
   "nbconvert_exporter": "python",
   "pygments_lexer": "ipython3",
   "version": "3.6.8"
  }
 },
 "nbformat": 4,
 "nbformat_minor": 4
}
